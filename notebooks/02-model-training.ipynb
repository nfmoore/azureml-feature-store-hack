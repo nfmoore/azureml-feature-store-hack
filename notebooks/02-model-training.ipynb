{
 "cells": [
  {
   "cell_type": "markdown",
   "metadata": {},
   "source": [
    "# Experiment and Train Models with the Azure ML Feature Store\n",
    "\n",
    "In this section you will:\n",
    "- Generate training data for ad-hoc development\n",
    "- Create a feature retrieval specification\n",
    "- Create model training pipeline\n",
    "- Execute model training pipeline\n",
    "- View the feature set and model dependencies"
   ]
  },
  {
   "cell_type": "markdown",
   "metadata": {},
   "source": [
    "### 0 - Setup"
   ]
  },
  {
   "cell_type": "code",
   "execution_count": null,
   "metadata": {},
   "outputs": [],
   "source": [
    "from dotenv import load_dotenv\n",
    "\n",
    "# Load the environment variables\n",
    "dotenv_path = '../environment/variables'\n",
    "load_dotenv(dotenv_path)"
   ]
  },
  {
   "cell_type": "code",
   "execution_count": null,
   "metadata": {},
   "outputs": [],
   "source": [
    "import os\n",
    "\n",
    "from azure.ai.ml import MLClient\n",
    "from azure.ai.ml.identity import AzureMLOnBehalfOfCredential\n",
    "from azureml.featurestore import FeatureStoreClient\n",
    "\n",
    "# Connect to the project workspace\n",
    "ws_client = MLClient(\n",
    "    credential=AzureMLOnBehalfOfCredential(), \n",
    "    subscription_id=os.environ['SUBSCRIPTION_ID'], \n",
    "    resource_group_name=os.environ['RESOURCE_GROUP_NAME'], \n",
    "    workspace_name=os.environ['WORKSPACE_NAME']\n",
    ")\n",
    "\n",
    "# feature store crud client\n",
    "fs_crud_client = MLClient(\n",
    "    credential=AzureMLOnBehalfOfCredential(),\n",
    "    subscription_id=os.environ['SUBSCRIPTION_ID'],\n",
    "    resource_group_name=os.environ['RESOURCE_GROUP_NAME'],\n",
    "    workspace_name=os.environ['FEATURE_STORE_NAME'],\n",
    ")\n",
    "\n",
    "# feature store sdk client\n",
    "featurestore = FeatureStoreClient(\n",
    "    credential=AzureMLOnBehalfOfCredential(),\n",
    "    subscription_id=os.environ['SUBSCRIPTION_ID'],\n",
    "    resource_group_name=os.environ['RESOURCE_GROUP_NAME'],\n",
    "    name=os.environ['FEATURE_STORE_NAME'],\n",
    ")"
   ]
  },
  {
   "cell_type": "markdown",
   "metadata": {},
   "source": [
    "### 01 - Generate training data for ad-hoc development"
   ]
  },
  {
   "cell_type": "code",
   "execution_count": null,
   "metadata": {},
   "outputs": [],
   "source": []
  },
  {
   "cell_type": "markdown",
   "metadata": {},
   "source": [
    "### 02 - Create a feature retrieval specification"
   ]
  },
  {
   "cell_type": "code",
   "execution_count": null,
   "metadata": {},
   "outputs": [],
   "source": []
  },
  {
   "cell_type": "markdown",
   "metadata": {},
   "source": [
    "### 03 - Create model training pipeline\n",
    "\n",
    "You must create a model training pipeline using the feature retrieval along with supporting code."
   ]
  },
  {
   "cell_type": "code",
   "execution_count": null,
   "metadata": {},
   "outputs": [],
   "source": []
  },
  {
   "cell_type": "markdown",
   "metadata": {},
   "source": [
    "### 04 - Execute model training pipeline\n",
    "\n",
    "Ensure you test your code before executing to minimise the liklihood of errors."
   ]
  },
  {
   "cell_type": "code",
   "execution_count": null,
   "metadata": {},
   "outputs": [],
   "source": [
    "from azure.ai.ml import load_job\n",
    "\n",
    "training_pipeline_path = '../src/pipelines/training_pipeline.yaml'\n",
    "training_pipeline_definition = load_job(source=training_pipeline_path)\n",
    "training_pipeline_job = ws_client.jobs.create_or_update(training_pipeline_definition)\n",
    "\n",
    "ws_client.jobs.stream(training_pipeline_job.name)"
   ]
  },
  {
   "cell_type": "markdown",
   "metadata": {},
   "source": [
    "### 05 - View the feature set and model dependencies\n",
    "\n",
    "1. Open the feature store UI\n",
    "2. Click on `Feature sets`\n",
    "3. Click on the feature set\n",
    "4. Click on `Models` tab\n",
    "\n",
    "You can see the list of models that are using the feature sets (determined from the feature retrieval spec when the model was registered)."
   ]
  },
  {
   "cell_type": "markdown",
   "metadata": {},
   "source": []
  }
 ],
 "metadata": {
  "language_info": {
   "name": "python"
  }
 },
 "nbformat": 4,
 "nbformat_minor": 2
}
