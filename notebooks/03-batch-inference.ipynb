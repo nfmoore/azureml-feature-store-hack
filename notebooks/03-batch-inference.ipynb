{
 "cells": [
  {
   "cell_type": "markdown",
   "metadata": {},
   "source": [
    "# Perform Batch Inference with the Azure ML Feature Store\n",
    "\n",
    "In this section you will:\n",
    "- Create batch inference pipeline\n",
    "- Execute batch inference pipeline\n",
    "- Inspect the batch inference output data"
   ]
  },
  {
   "cell_type": "markdown",
   "metadata": {},
   "source": [
    "### 0 - Setup"
   ]
  },
  {
   "cell_type": "code",
   "execution_count": null,
   "metadata": {},
   "outputs": [],
   "source": [
    "import os\n",
    " \n",
    "# Define root directory\n",
    "user_alias='<your_user_alias>' # update <your_user_alias>\n",
    "root_dir=f'Users/{user_alias}/azureml-feature-store-hack'\n",
    " \n",
    "# Check if directory exists\n",
    "dir_not_exists_message='Directory does not exists. Please create or fix the path.'\n",
    "if not os.path.isdir(root_dir):\n",
    "    raise ValueError(dir_not_exists_message)"
   ]
  },
  {
   "cell_type": "code",
   "execution_count": null,
   "metadata": {},
   "outputs": [],
   "source": [
    "from dotenv import load_dotenv\n",
    " \n",
    "# Load the environment variables\n",
    "env_file = f'{root_dir}/environment/variables'\n",
    "load_dotenv(env_file)\n",
    " \n",
    "# Check all environment variables are set\n",
    "manditory_env_vars = ['SUBSCRIPTION_ID', 'RESOURCE_GROUP_NAME', 'WORKSPACE_NAME', 'FEATURE_STORE_NAME']\n",
    "for var in manditory_env_vars:\n",
    "    if var not in os.environ:\n",
    "        raise EnvironmentError(f'{var} is not set.')"
   ]
  },
  {
   "cell_type": "code",
   "execution_count": null,
   "metadata": {},
   "outputs": [],
   "source": [
    "from azure.ai.ml import MLClient\n",
    "from azure.ai.ml.identity import AzureMLOnBehalfOfCredential\n",
    "from azureml.featurestore import FeatureStoreClient\n",
    "\n",
    "# Connect to the project workspace\n",
    "ws_client = MLClient(\n",
    "    credential=AzureMLOnBehalfOfCredential(), \n",
    "    subscription_id=os.getenv('SUBSCRIPTION_ID'), \n",
    "    resource_group_name=os.getenv('RESOURCE_GROUP_NAME'), \n",
    "    workspace_name=os.getenv('WORKSPACE_NAME')\n",
    ")\n",
    " \n",
    "# Connect to feature store crud client\n",
    "fs_crud_client = MLClient(\n",
    "    credential=AzureMLOnBehalfOfCredential(),\n",
    "    subscription_id=os.getenv('SUBSCRIPTION_ID'), \n",
    "    resource_group_name=os.getenv('RESOURCE_GROUP_NAME'), \n",
    "    workspace_name=os.getenv('FEATURE_STORE_NAME')\n",
    ")\n",
    "\n",
    "# feature store sdk client\n",
    "featurestore = FeatureStoreClient(\n",
    "    credential=AzureMLOnBehalfOfCredential(),\n",
    "    subscription_id=os.getenv('SUBSCRIPTION_ID'), \n",
    "    resource_group_name=os.getenv('RESOURCE_GROUP_NAME'), \n",
    "    name=os.getenv('FEATURE_STORE_NAME')\n",
    ")"
   ]
  },
  {
   "cell_type": "markdown",
   "metadata": {},
   "source": [
    "### 01 - Create batch inference pipeline\n",
    "\n",
    "You must create a batch inference  pipeline along with supporting code."
   ]
  },
  {
   "cell_type": "code",
   "execution_count": null,
   "metadata": {},
   "outputs": [],
   "source": []
  },
  {
   "cell_type": "markdown",
   "metadata": {},
   "source": [
    "### 02 - Execute batch inference pipeline\n",
    "\n",
    "Ensure you test your code before executing to minimise the liklihood of errors."
   ]
  },
  {
   "cell_type": "code",
   "execution_count": null,
   "metadata": {},
   "outputs": [],
   "source": [
    "from azure.ai.ml import load_job\n",
    "\n",
    "training_pipeline_path = f'{root_dir}/src/pipelines/batch_inference_pipeline.yaml'\n",
    "training_pipeline_definition = load_job(source=training_pipeline_path)\n",
    "training_pipeline_job = ws_client.jobs.create_or_update(training_pipeline_definition)\n",
    "\n",
    "ws_client.jobs.stream(training_pipeline_job.name)"
   ]
  },
  {
   "cell_type": "markdown",
   "metadata": {},
   "source": [
    "### 03 - Inspect the batch inference output data\n",
    "\n",
    "This can be seen in the pipeline view under the `inference_step` in `outputs`."
   ]
  },
  {
   "cell_type": "markdown",
   "metadata": {},
   "source": []
  }
 ],
 "metadata": {
  "language_info": {
   "name": "python"
  }
 },
 "nbformat": 4,
 "nbformat_minor": 2
}
