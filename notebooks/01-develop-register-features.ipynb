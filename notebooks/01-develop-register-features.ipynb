{
 "cells": [
  {
   "cell_type": "markdown",
   "metadata": {},
   "source": [
    "# Develop and Register Features in the Azure ML Feature Store\n",
    "\n",
    "In this section you will:\n",
    "- Create a spark transformer for each feature set\n",
    "- Create feature set specification file\n",
    "- Register a feature store entity\n",
    "- Register a feature set with the feature store\n",
    "- Enable offline materialization on the feature set\n",
    "- Explore features in Azure ML Feature Store UI"
   ]
  },
  {
   "cell_type": "markdown",
   "metadata": {},
   "source": [
    "### 0 - Setup"
   ]
  },
  {
   "cell_type": "code",
   "execution_count": null,
   "metadata": {},
   "outputs": [],
   "source": [
    "from dotenv import load_dotenv\n",
    "\n",
    "# Load the environment variables\n",
    "dotenv_path = '../environment/variables'\n",
    "load_dotenv(dotenv_path)"
   ]
  },
  {
   "cell_type": "code",
   "execution_count": null,
   "metadata": {},
   "outputs": [],
   "source": [
    "import os\n",
    "\n",
    "from azure.ai.ml import MLClient\n",
    "from azure.ai.ml.identity import AzureMLOnBehalfOfCredential\n",
    "\n",
    "# Connect to the project workspace\n",
    "ws_client = MLClient(\n",
    "    credential=AzureMLOnBehalfOfCredential(), \n",
    "    subscription_id=os.environ['SUBSCRIPTION_ID'], \n",
    "    resource_group_name=os.environ['RESOURCE_GROUP_NAME'], \n",
    "    workspace_name=os.environ['WORKSPACE_NAME']\n",
    ")\n",
    "\n",
    "# feature store crud client\n",
    "fs_crud_client = MLClient(\n",
    "    credential=AzureMLOnBehalfOfCredential(),\n",
    "    subscription_id=os.environ['SUBSCRIPTION_ID'],\n",
    "    resource_group_name=os.environ['RESOURCE_GROUP_NAME'],\n",
    "    workspace_name=os.environ['FEATURE_STORE_NAME'],\n",
    ")"
   ]
  },
  {
   "cell_type": "markdown",
   "metadata": {},
   "source": [
    "### 01 - Read and explore sample data"
   ]
  },
  {
   "cell_type": "code",
   "execution_count": null,
   "metadata": {},
   "outputs": [],
   "source": []
  },
  {
   "cell_type": "markdown",
   "metadata": {},
   "source": [
    "### 02 - Develop a Spark Transformer\n",
    "\n",
    "The Spark Transformer is a script that applies all transformations to your data to develop the features of interest. Create a file in `featurestore/featuresets/<feature_name>/transform_code/feature_transform.py` implementing the Spark Transformer. Your file should look like the following:\n",
    "\n",
    "```python\n",
    "from pyspark.sql import functions as F\n",
    "from pyspark.ml import Transformer\n",
    "from pyspark.sql.dataframe import DataFrame\n",
    "\n",
    "class FeatureTransformer(Transformer):\n",
    "    def _transform(self, df: DataFrame) -> DataFrame:\n",
    "        res = (\n",
    "            df\n",
    "            ...\n",
    "        )\n",
    "\n",
    "        return res\n",
    "```"
   ]
  },
  {
   "cell_type": "code",
   "execution_count": null,
   "metadata": {},
   "outputs": [],
   "source": []
  },
  {
   "cell_type": "markdown",
   "metadata": {},
   "source": [
    "### 03 - Create a Feature set specification\n",
    "\n",
    "After defining the feature set specification you must write it to `featurestore/featuresets/<feature_name>/spec/FeaturesetSpec.yaml`."
   ]
  },
  {
   "cell_type": "code",
   "execution_count": null,
   "metadata": {},
   "outputs": [],
   "source": []
  },
  {
   "cell_type": "markdown",
   "metadata": {},
   "source": [
    "### 04 - Register a feature store entity"
   ]
  },
  {
   "cell_type": "code",
   "execution_count": null,
   "metadata": {},
   "outputs": [],
   "source": []
  },
  {
   "cell_type": "markdown",
   "metadata": {},
   "source": [
    "### 05 - Register the feature set with the feature store"
   ]
  },
  {
   "cell_type": "code",
   "execution_count": null,
   "metadata": {},
   "outputs": [],
   "source": []
  },
  {
   "cell_type": "markdown",
   "metadata": {},
   "source": [
    "### 06 - Enable offline materialization on the feature set"
   ]
  },
  {
   "cell_type": "code",
   "execution_count": null,
   "metadata": {},
   "outputs": [],
   "source": []
  },
  {
   "cell_type": "markdown",
   "metadata": {},
   "source": [
    "### 07 - Explore the feature store UI\n",
    "\n",
    "You can use the UI to search or browse through the feature store:\n",
    "\n",
    "1. Open the Azure Machine Learning global landing page.\n",
    "2. Select Feature stores on the left pane.\n",
    "3. From the list of accessible feature stores, select the feature store that you are using for this hack."
   ]
  }
 ],
 "metadata": {
  "kernelspec": {
   "display_name": "Python 3.10 - SDK v2",
   "language": "python",
   "name": "python310-sdkv2"
  },
  "language_info": {
   "codemirror_mode": {
    "name": "ipython",
    "version": 3
   },
   "file_extension": ".py",
   "mimetype": "text/x-python",
   "name": "python",
   "nbconvert_exporter": "python",
   "pygments_lexer": "ipython3",
   "version": "3.10.11"
  }
 },
 "nbformat": 4,
 "nbformat_minor": 2
}
