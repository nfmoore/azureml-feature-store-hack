{
 "cells": [
  {
   "cell_type": "markdown",
   "metadata": {},
   "source": [
    "# Develop and Register Features in the Azure ML Feature Store\n",
    "\n",
    "In this section you will:\n",
    "- Create a spark transformer for each feature set\n",
    "- Create feature set specification file\n",
    "- Register a feature store entity\n",
    "- Register a feature set with the feature store\n",
    "- Enable offline materialization on the feature set\n",
    "- Explore features in Azure ML Feature Store UI"
   ]
  },
  {
   "cell_type": "markdown",
   "metadata": {},
   "source": [
    "### 0 - Setup"
   ]
  },
  {
   "cell_type": "code",
   "execution_count": null,
   "metadata": {},
   "outputs": [],
   "source": [
    "import os\n",
    " \n",
    "# Define root directory\n",
    "user_alias='<your_user_alias>' # update <your_user_alias>\n",
    "root_dir=f'Users/{user_alias}/azureml-feature-store-hack'\n",
    " \n",
    "# Check if directory exists\n",
    "dir_not_exists_message='Directory does not exists. Please create or fix the path.'\n",
    "if not os.path.isdir(root_dir):\n",
    "    raise ValueError(dir_not_exists_message)"
   ]
  },
  {
   "cell_type": "code",
   "execution_count": null,
   "metadata": {},
   "outputs": [],
   "source": [
    "from dotenv import load_dotenv\n",
    " \n",
    "# Load the environment variables\n",
    "env_file = f'{root_dir}/environment/variables'\n",
    "load_dotenv(env_file)\n",
    " \n",
    "# Check all environment variables are set\n",
    "manditory_env_vars = ['SUBSCRIPTION_ID', 'RESOURCE_GROUP_NAME', 'WORKSPACE_NAME', 'FEATURE_STORE_NAME']\n",
    "for var in manditory_env_vars:\n",
    "    if var not in os.environ:\n",
    "        raise EnvironmentError(f'{var} is not set.')"
   ]
  },
  {
   "cell_type": "code",
   "execution_count": null,
   "metadata": {},
   "outputs": [],
   "source": [
    "from azure.ai.ml import MLClient\n",
    "from azure.ai.ml.identity import AzureMLOnBehalfOfCredential\n",
    " \n",
    "# Connect to the project workspace\n",
    "ws_client = MLClient(\n",
    "    credential=AzureMLOnBehalfOfCredential(), \n",
    "    subscription_id=os.getenv('SUBSCRIPTION_ID'), \n",
    "    resource_group_name=os.getenv('RESOURCE_GROUP_NAME'), \n",
    "    workspace_name=os.getenv('WORKSPACE_NAME')\n",
    ")\n",
    " \n",
    "# Connect to feature store crud client\n",
    "fs_crud_client = MLClient(\n",
    "    credential=AzureMLOnBehalfOfCredential(),\n",
    "    subscription_id=os.getenv('SUBSCRIPTION_ID'), \n",
    "    resource_group_name=os.getenv('RESOURCE_GROUP_NAME'), \n",
    "    workspace_name=os.getenv('FEATURE_STORE_NAME')\n",
    ")"
   ]
  },
  {
   "cell_type": "markdown",
   "metadata": {},
   "source": [
    "### 01 - Read and explore sample data"
   ]
  },
  {
   "cell_type": "code",
   "execution_count": null,
   "metadata": {},
   "outputs": [],
   "source": []
  },
  {
   "cell_type": "markdown",
   "metadata": {},
   "source": [
    "### 02 - Develop a Spark Transformer\n",
    "\n",
    "The Spark Transformer is a script that applies all transformations to your data to develop the features of interest. Create a file in `featurestore/featuresets/<feature_name>/transform_code/feature_transform.py` implementing the Spark Transformer. Your file should look like the following:\n",
    "\n",
    "```python\n",
    "from pyspark.sql import functions as F\n",
    "from pyspark.ml import Transformer\n",
    "from pyspark.sql.dataframe import DataFrame\n",
    "\n",
    "class FeatureTransformer(Transformer):\n",
    "    def _transform(self, df: DataFrame) -> DataFrame:\n",
    "        res = (\n",
    "            df\n",
    "            ...\n",
    "        )\n",
    "\n",
    "        return res\n",
    "```"
   ]
  },
  {
   "cell_type": "code",
   "execution_count": null,
   "metadata": {},
   "outputs": [],
   "source": []
  },
  {
   "cell_type": "markdown",
   "metadata": {},
   "source": [
    "### 03 - Create a Feature set specification\n",
    "\n",
    "After defining the feature set specification you must write it to `featurestore/featuresets/<feature_name>/spec/FeaturesetSpec.yaml`."
   ]
  },
  {
   "cell_type": "code",
   "execution_count": null,
   "metadata": {},
   "outputs": [],
   "source": []
  },
  {
   "cell_type": "markdown",
   "metadata": {},
   "source": [
    "### 04 - Register a feature store entity"
   ]
  },
  {
   "cell_type": "code",
   "execution_count": null,
   "metadata": {},
   "outputs": [],
   "source": []
  },
  {
   "cell_type": "markdown",
   "metadata": {},
   "source": [
    "### 05 - Register the feature set with the feature store"
   ]
  },
  {
   "cell_type": "code",
   "execution_count": null,
   "metadata": {},
   "outputs": [],
   "source": []
  },
  {
   "cell_type": "markdown",
   "metadata": {},
   "source": [
    "### 06 - Enable offline materialization on the feature set (optional)\n",
    "\n",
    "Materialization is the process of computing the feature values for a given feature window and storing this in an materialization store. Materializing the features will increase its reliability and availability. All feature queries will use the materialized values from the materialization store.\n",
    "\n",
    "Once materialization is enabled on a feature set, you can perform backfill or schedule recurrent materialization jobs (out of scope for hack)."
   ]
  },
  {
   "cell_type": "code",
   "execution_count": null,
   "metadata": {},
   "outputs": [],
   "source": []
  },
  {
   "cell_type": "markdown",
   "metadata": {},
   "source": [
    "### 07 - Explore the feature store UI\n",
    "\n",
    "You can use the UI to search or browse through the feature store:\n",
    "\n",
    "1. Open the Azure Machine Learning global landing page.\n",
    "2. Select Feature stores on the left pane.\n",
    "3. From the list of accessible feature stores, select the feature store that you are using for this hack."
   ]
  }
 ],
 "metadata": {
  "kernelspec": {
   "display_name": "Python 3.10 - SDK v2",
   "language": "python",
   "name": "python310-sdkv2"
  },
  "language_info": {
   "codemirror_mode": {
    "name": "ipython",
    "version": 3
   },
   "file_extension": ".py",
   "mimetype": "text/x-python",
   "name": "python",
   "nbconvert_exporter": "python",
   "pygments_lexer": "ipython3",
   "version": "3.10.11"
  }
 },
 "nbformat": 4,
 "nbformat_minor": 2
}
